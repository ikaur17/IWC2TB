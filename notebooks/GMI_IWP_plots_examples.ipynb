{
 "cells": [
  {
   "cell_type": "code",
   "execution_count": 1,
   "metadata": {},
   "outputs": [
    {
     "ename": "ModuleNotFoundError",
     "evalue": "No module named 'tensorflow'",
     "output_type": "error",
     "traceback": [
      "\u001b[0;31m---------------------------------------------------------------------------\u001b[0m",
      "\u001b[0;31mModuleNotFoundError\u001b[0m                       Traceback (most recent call last)",
      "\u001b[0;32m/tmp/ipykernel_29326/73064733.py\u001b[0m in \u001b[0;36m<module>\u001b[0;34m\u001b[0m\n\u001b[1;32m     11\u001b[0m \u001b[0;32mimport\u001b[0m \u001b[0mos\u001b[0m\u001b[0;34m\u001b[0m\u001b[0;34m\u001b[0m\u001b[0m\n\u001b[1;32m     12\u001b[0m \u001b[0;32mfrom\u001b[0m \u001b[0miwc2tb\u001b[0m\u001b[0;34m.\u001b[0m\u001b[0mGMI\u001b[0m\u001b[0;34m.\u001b[0m\u001b[0mGMI_SatData\u001b[0m \u001b[0;32mimport\u001b[0m \u001b[0mGMI_Sat\u001b[0m\u001b[0;34m\u001b[0m\u001b[0;34m\u001b[0m\u001b[0m\n\u001b[0;32m---> 13\u001b[0;31m \u001b[0;32mfrom\u001b[0m \u001b[0miwc2tb\u001b[0m\u001b[0;34m.\u001b[0m\u001b[0mGMI\u001b[0m\u001b[0;34m.\u001b[0m\u001b[0mgmiSatData\u001b[0m \u001b[0;32mimport\u001b[0m \u001b[0mgmiSatData\u001b[0m\u001b[0;34m\u001b[0m\u001b[0;34m\u001b[0m\u001b[0m\n\u001b[0m\u001b[1;32m     14\u001b[0m \u001b[0mplt\u001b[0m\u001b[0;34m.\u001b[0m\u001b[0mrcParams\u001b[0m\u001b[0;34m.\u001b[0m\u001b[0mupdate\u001b[0m\u001b[0;34m(\u001b[0m\u001b[0;34m{\u001b[0m\u001b[0;34m'font.size'\u001b[0m\u001b[0;34m:\u001b[0m \u001b[0;36m16\u001b[0m\u001b[0;34m}\u001b[0m\u001b[0;34m)\u001b[0m\u001b[0;34m\u001b[0m\u001b[0;34m\u001b[0m\u001b[0m\n",
      "\u001b[0;32m~/git/Projects/IWC2TB/iwc2tb/GMI/gmiSatData.py\u001b[0m in \u001b[0;36m<module>\u001b[0;34m\u001b[0m\n\u001b[1;32m      7\u001b[0m \u001b[0;32mfrom\u001b[0m \u001b[0mnumpy\u001b[0m \u001b[0;32mimport\u001b[0m \u001b[0margmax\u001b[0m\u001b[0;34m\u001b[0m\u001b[0;34m\u001b[0m\u001b[0m\n\u001b[1;32m      8\u001b[0m \u001b[0;32mimport\u001b[0m \u001b[0mrandom\u001b[0m\u001b[0;34m\u001b[0m\u001b[0;34m\u001b[0m\u001b[0m\n\u001b[0;32m----> 9\u001b[0;31m \u001b[0;32mfrom\u001b[0m \u001b[0mkeras\u001b[0m\u001b[0;34m.\u001b[0m\u001b[0mutils\u001b[0m \u001b[0;32mimport\u001b[0m \u001b[0mto_categorical\u001b[0m\u001b[0;34m\u001b[0m\u001b[0;34m\u001b[0m\u001b[0m\n\u001b[0m\u001b[1;32m     10\u001b[0m \u001b[0;32mfrom\u001b[0m \u001b[0mquantnn\u001b[0m\u001b[0;34m.\u001b[0m\u001b[0mnormalizer\u001b[0m \u001b[0;32mimport\u001b[0m \u001b[0mNormalizer\u001b[0m\u001b[0;34m\u001b[0m\u001b[0;34m\u001b[0m\u001b[0m\n\u001b[1;32m     11\u001b[0m \u001b[0;34m\u001b[0m\u001b[0m\n",
      "\u001b[0;32m~/anaconda3/lib/python3.9/site-packages/keras/__init__.py\u001b[0m in \u001b[0;36m<module>\u001b[0;34m\u001b[0m\n\u001b[1;32m     19\u001b[0m \"\"\"\n\u001b[1;32m     20\u001b[0m \u001b[0;31m# pylint: disable=unused-import\u001b[0m\u001b[0;34m\u001b[0m\u001b[0;34m\u001b[0m\u001b[0m\n\u001b[0;32m---> 21\u001b[0;31m \u001b[0;32mfrom\u001b[0m \u001b[0mtensorflow\u001b[0m\u001b[0;34m.\u001b[0m\u001b[0mpython\u001b[0m \u001b[0;32mimport\u001b[0m \u001b[0mtf2\u001b[0m\u001b[0;34m\u001b[0m\u001b[0;34m\u001b[0m\u001b[0m\n\u001b[0m\u001b[1;32m     22\u001b[0m \u001b[0;32mfrom\u001b[0m \u001b[0mkeras\u001b[0m \u001b[0;32mimport\u001b[0m \u001b[0mdistribute\u001b[0m\u001b[0;34m\u001b[0m\u001b[0;34m\u001b[0m\u001b[0m\n\u001b[1;32m     23\u001b[0m \u001b[0;34m\u001b[0m\u001b[0m\n",
      "\u001b[0;31mModuleNotFoundError\u001b[0m: No module named 'tensorflow'"
     ]
    }
   ],
   "source": [
    "import numpy as np\n",
    "import pickle\n",
    "import xarray\n",
    "import matplotlib.pyplot as plt\n",
    "from mpl_toolkits.basemap import Basemap\n",
    "from matplotlib import cm\n",
    "import matplotlib.colors as colors\n",
    "import os\n",
    "from iwc2tb.GMI.GMI import GMI\n",
    "import glob\n",
    "import os\n",
    "from iwc2tb.GMI.GMI_SatData import GMI_Sat\n",
    "from iwc2tb.GMI.gmiSatData import gmiSatData\n",
    "plt.rcParams.update({'font.size': 16})"
   ]
  },
  {
   "cell_type": "code",
   "execution_count": null,
   "metadata": {},
   "outputs": [],
   "source": [
    "def read_pickle(file):\n",
    "    with open(file, \"rb\") as f:\n",
    "\n",
    "        iwp_lpa  = pickle.load(f)\n",
    "        ciwp_lpa = pickle.load(f)\n",
    "        iwp0     = pickle.load(f)\n",
    "        ciwp0    = pickle.load(f)\n",
    "\n",
    "        f.close()\n",
    "        \n",
    "        return iwp_lpa, ciwp_lpa, iwp0, ciwp0"
   ]
  },
  {
   "cell_type": "code",
   "execution_count": null,
   "metadata": {},
   "outputs": [],
   "source": [
    "file_lpa = \"../WorkArea/GMI/gridded_iwp_lpa_jan2017.pickle\"\n",
    "iwp_lpa, ciwp_lpa, iwp0, ciwp0 = read_pickle(file_lpa)\n",
    "\n",
    "file_lpa_pr1 = \"../WorkArea/GMI/gridded_iwp_lpa_pr1_jan2017.pickle\"\n",
    "iwp_lpa_pr1, ciwp_lpa_pr1, iwp0, ciwp0 = read_pickle(file_lpa_pr1)\n",
    "\n",
    "file_esa = \"../WorkArea/GMI/gridded_iwp_lpa_jan2017_v.pickle\"\n",
    "iwp_esa, ciwp_esa, iwp0, ciwp0 = read_pickle(file_esa)"
   ]
  },
  {
   "cell_type": "code",
   "execution_count": null,
   "metadata": {},
   "outputs": [],
   "source": []
  },
  {
   "cell_type": "code",
   "execution_count": null,
   "metadata": {},
   "outputs": [],
   "source": [
    "with open(\"../WorkArea/GMI/gridded_dardar_2009.pickle\", \"rb\") as f:\n",
    "    iwp_d  = pickle.load(f)\n",
    "    ciwp_d = pickle.load(f)\n",
    "    f.close()"
   ]
  },
  {
   "cell_type": "code",
   "execution_count": null,
   "metadata": {},
   "outputs": [],
   "source": [
    "with open(\"../WorkArea/GMI/gridded_spareice.pickle\", \"rb\") as f:\n",
    "    iwp_s  = pickle.load(f)\n",
    "    ciwp_s = pickle.load(f)\n",
    "    f.close()"
   ]
  },
  {
   "cell_type": "code",
   "execution_count": 2,
   "metadata": {},
   "outputs": [],
   "source": [
    "era_s = \"/home/inderpreet/git/Projects/pansat/notebooks/products/ERA5/reanalysis-era5-single-levels-monthly-means/reanalysis-era5-single-levels-monthly-means_202001_total_column_snow_water.nc\"\n",
    "\n",
    "era_i = \"/home/inderpreet/git/Projects/pansat/notebooks/products/ERA5/reanalysis-era5-single-levels-monthly-means/reanalysis-era5-single-levels-monthly-means_202001_total_column_cloud_ice_water.nc\""
   ]
  },
  {
   "cell_type": "code",
   "execution_count": 3,
   "metadata": {},
   "outputs": [],
   "source": [
    "snow = xarray.open_dataset(era_s)\n",
    "ice = xarray.open_dataset(era_i)"
   ]
  },
  {
   "cell_type": "code",
   "execution_count": null,
   "metadata": {},
   "outputs": [],
   "source": [
    "snow"
   ]
  },
  {
   "cell_type": "code",
   "execution_count": null,
   "metadata": {},
   "outputs": [],
   "source": [
    "sn = snow.tcsw.values\n",
    "ic = ice.tciw.values\n",
    "elon = snow.longitude.data\n",
    "elat = snow.latitude.data\n",
    "\n",
    "era = sn + ic\n",
    "era = np.squeeze(era)"
   ]
  },
  {
   "cell_type": "code",
   "execution_count": null,
   "metadata": {},
   "outputs": [],
   "source": [
    "elats = np.arange(-90, 90.25, 0.25)\n",
    "elats.shape"
   ]
  },
  {
   "cell_type": "code",
   "execution_count": null,
   "metadata": {},
   "outputs": [],
   "source": [
    "lats = np.arange(-65, 65, 2.0)\n",
    "\n",
    "lats1 = np.arange(-65, 65, 5.0)\n",
    "\n",
    "gziwp_s = np.mean(iwp_s/ciwp_s, axis = 1)\n",
    "gziwp_d = np.mean(iwp_d/ciwp_d, axis = 1)\n",
    "gziwp_g = np.mean(iwp_lpa/ciwp_lpa, axis = 1)\n",
    "gziwp_e = np.mean(iwp_esa/ciwp_esa, axis = 1)\n",
    "gziwp_g1 = np.mean(iwp_lpa_pr1/ciwp_lpa_pr1, axis = 1)\n",
    "gziwp_g0 = np.mean(iwp0/ciwp0, axis = 1)\n",
    "\n",
    "#era_mean = np.mean(era, axis = 1)\n",
    "\n",
    "fig, ax = plt.subplots(1, 1, figsize = [8, 8])\n",
    "\n",
    "\n",
    "ax.plot(gziwp_g, lats, 'b-', label = \"LPA-ARO \")\n",
    "ax.plot(gziwp_g1, lats, 'r--', label = \"LPA-TRO \")\n",
    "ax.plot(gziwp_e, lats, 'b:', label = \"LPA-ARO (V)\")\n",
    "ax.plot(gziwp_g0, lats, 'b.-', label = \"GMI\")\n",
    "ax.plot(gziwp_d, lats1, 'k', label = \"DARDAR \")\n",
    "#ax.plot(0.001 * gziwp_s, lats,'k--', label = \"SI \", )\n",
    "\n",
    "#ax.plot(era_mean, elats, \"c\", label = \"ERA\")\n",
    "\n",
    "ax.legend(prop={'size': 12})\n",
    "\n",
    "ax.set_ylabel(\"Latitude [deg]\")\n",
    "ax.set_xlabel(\"IWP [kg/m2]\")\n",
    "ax.grid(\"on\")\n",
    "\n",
    "fig.savefig(\"zonal_mean_GMI.pdf\", bbox_inches = \"tight\")"
   ]
  },
  {
   "cell_type": "code",
   "execution_count": null,
   "metadata": {},
   "outputs": [],
   "source": [
    "#%% get avg IWP, weighted by cosine of latitude [g/m2]\n",
    "\n",
    "lats  = np.arange(-65, 65, 2)\n",
    "cosines = np.cos(np.deg2rad(lats))\n",
    "\n",
    "\n",
    "print (\"SI mean: \", np.sum(gziwp_s * cosines)/np.sum(cosines))\n",
    "print (\"DARDAR mean: \", 1000 * np.sum(gziwp_d * cosines)/np.sum(cosines))\n",
    "print (\"LPA mean ARO: \", 1000 * np.sum(gziwp_g * cosines)/np.sum(cosines)) # g/m2\n",
    "print (\"LPA mean TRO: \", 1000 * np.sum(gziwp_g1 * cosines)/np.sum(cosines)) # g/m2\n",
    "print (\"GPROF mean: \", 1000 * np.sum(gziwp_g0 * cosines)/np.sum(cosines))\n",
    "print (\"ESA mean: \", 1000 * np.sum(gziwp_e * cosines)/np.sum(cosines))"
   ]
  },
  {
   "cell_type": "code",
   "execution_count": null,
   "metadata": {},
   "outputs": [],
   "source": []
  },
  {
   "cell_type": "markdown",
   "metadata": {},
   "source": []
  },
  {
   "cell_type": "code",
   "execution_count": null,
   "metadata": {},
   "outputs": [],
   "source": [
    "\n",
    "file = \"1B.GPM.GMI.TB2016.20200131-S223646-E000919.033669.V05A\" #EXAMPLE1\n",
    "#file = \"1B.GPM.GMI.TB2016.20190615-S144123-E161355.030086.V05A\"\n",
    "#file = \"1B.GPM.GMI.TB2016.20200101-S064511-E081744.033192.V05A\"\n",
    "file = \"1B.GPM.GMI.TB2016.20170115-S022822-E040055.016374.V05A\"#example2\n",
    "\n",
    "#file = \"1B.GPM.GMI.TB2016.20200111-S211936-E225209.033357.V05A\""
   ]
  },
  {
   "cell_type": "code",
   "execution_count": null,
   "metadata": {},
   "outputs": [],
   "source": [
    "iwpfile = os.path.expanduser(\"~/Dendrite/UserAreas/Kaur/IWP/lpa1/\" + file + \".nc\")\n",
    "iwpfile_v = os.path.expanduser(\"~/Dendrite/UserAreas/Kaur/IWP/lpa_pr1/\" + file + \".nc\")\n",
    "iwpfile_vh = os.path.expanduser(\"~/Dendrite/UserAreas/Kaur/IWP/lpa_vh1/\" + file + \".nc\")\n",
    "gmifile = os.path.expanduser(\"~/Dendrite/SatData/GMI/L1B/2017/01/15/\" + file + \".HDF5\")\n",
    "#gmifile = os.path.expanduser(\"~/Dendrite/SatData/GMI/L1B/2017/01/07/\" + file + \".HDF5\")"
   ]
  },
  {
   "cell_type": "code",
   "execution_count": null,
   "metadata": {},
   "outputs": [],
   "source": [
    "dataset = xarray.open_dataset(iwpfile)\n",
    "dataset_v = xarray.open_dataset(iwpfile_v)\n",
    "#dataset_vh = xarray.open_dataset(iwpfile_vh)\n"
   ]
  },
  {
   "cell_type": "code",
   "execution_count": null,
   "metadata": {},
   "outputs": [],
   "source": [
    "dataset.lon.data.max()"
   ]
  },
  {
   "cell_type": "code",
   "execution_count": null,
   "metadata": {},
   "outputs": [],
   "source": [
    "np.sum(dataset_v.stype.data == 3)"
   ]
  },
  {
   "cell_type": "code",
   "execution_count": null,
   "metadata": {},
   "outputs": [],
   "source": [
    "gmi = GMI_Sat(gmifile)\n",
    "\n",
    "batchSize          = 4\n",
    "inputs             = np.array([\"ta\", \"t2m\",  \"wvp\", \"z0\", \"lat\", \"stype\"])\n",
    "outputs            = \"iwp\"\n",
    "\n",
    "latlims            = [0, 65]\n",
    "gmival             = gmiSatData(gmi, \n",
    "                         inputs, outputs,\n",
    "                         batch_size = batchSize,\n",
    "                         latlims = latlims,\n",
    "                         normalize = None )\n",
    "\n",
    "\n",
    "glsm = np.argmax(gmival.stype, axis = 2)\n",
    "wvp = gmival.wvp\n",
    "t2m = gmival.t2m\n",
    "glat = gmival.lat\n",
    "glon = gmival.lon\n",
    "\n"
   ]
  },
  {
   "cell_type": "code",
   "execution_count": null,
   "metadata": {},
   "outputs": [],
   "source": [
    "gmival.lat[mask2]"
   ]
  },
  {
   "cell_type": "code",
   "execution_count": null,
   "metadata": {},
   "outputs": [],
   "source": [
    "fig, ax = plt.subplots(1, 1)\n",
    "m = Basemap(projection= \"cyl\", llcrnrlon = 50,  llcrnrlat = 0,\n",
    "            urcrnrlon = 120, urcrnrlat = 65, ax = ax)\n",
    "m.drawcoastlines() \n",
    "m.scatter(glon, glat, c = gmival.x[:, :, 0], vmin = 150, vmax = 280, cmap = cm.jet)"
   ]
  },
  {
   "cell_type": "code",
   "execution_count": null,
   "metadata": {},
   "outputs": [],
   "source": [
    "glon = glon%360"
   ]
  },
  {
   "cell_type": "code",
   "execution_count": null,
   "metadata": {},
   "outputs": [],
   "source": [
    "gtb = gmival.x[:, :, :4]\n",
    "pd = gtb[:, :, 0] - gtb[:,:, 1] "
   ]
  },
  {
   "cell_type": "code",
   "execution_count": null,
   "metadata": {},
   "outputs": [],
   "source": [
    "gtb[:, :, 0]"
   ]
  },
  {
   "cell_type": "code",
   "execution_count": null,
   "metadata": {},
   "outputs": [],
   "source": [
    "glon = glon%360\n"
   ]
  },
  {
   "cell_type": "code",
   "execution_count": null,
   "metadata": {},
   "outputs": [],
   "source": [
    "t0 = gmival.t2m\n",
    "z0 = gmival.z0"
   ]
  },
  {
   "cell_type": "code",
   "execution_count": null,
   "metadata": {},
   "outputs": [],
   "source": [
    "lonlims = [25, 55]\n",
    "latlims = [-54, -48]\n",
    "\n",
    "lonlims = [185, 195]\n",
    "latlims = [-3, -1]\n",
    "\n",
    "lonlims = [275, 285]\n",
    "latlims = [50, 58]\n",
    "\n",
    "lonlims = [87, 100]\n",
    "latlims = [-10, -2]\n",
    "\n",
    "#example1\n",
    "#lonlims = [155, 180]\n",
    "#latlims = [40, 48]\n",
    "\n",
    "#example2\n",
    "#lonlims = [89, 99]\n",
    "#latlims = [-8, -4]\n",
    "\n",
    "\n",
    "#lonlims = [265, 285]\n",
    "#latlims = [40, 50]"
   ]
  },
  {
   "cell_type": "code",
   "execution_count": null,
   "metadata": {},
   "outputs": [],
   "source": [
    "snow = False; water = False; land = False; seaice = False; All = True; snowland = False"
   ]
  },
  {
   "cell_type": "code",
   "execution_count": null,
   "metadata": {},
   "outputs": [],
   "source": [
    "if snow is True:\n",
    "    mask  = (dataset.stype == 2) & (dataset.lat > latlims[0]) & (dataset.lat < latlims[1]) &  (dataset.lon > lonlims[0]) & (dataset.lon < lonlims[1]) \n",
    "    #mask2 = (glsm == 8) | (glsm == 9) & (glsm == 10) \n",
    "    mask2 = glsm == 2 \n",
    "    \n",
    "if water is True:\n",
    "    mask  = (dataset.stype == 0) & (dataset.lat > latlims[0]) & (dataset.lat < latlims[1]) &  (dataset.lon > lonlims[0]) & (dataset.lon < lonlims[1]) \n",
    "    mask2 = (glsm == 0) \n",
    "\n",
    "if land is True:\n",
    "    mask  = (dataset.stype == 1) & (dataset.lat > latlims[0]) & (dataset.lat < latlims[1]) &  (dataset.lon > lonlims[0]) & (dataset.lon < lonlims[1]) \n",
    "    mask2 = (glsm == 1)\n",
    "   # mask2 = glsm == 1\n",
    "        \n",
    "if seaice is True:\n",
    "    mask  = (dataset.stype == 7) & (dataset.lat > latlims[0]) & (dataset.lat < latlims[1]) &  (dataset.lon > lonlims[0]) & (dataset.lon < lonlims[1]) \n",
    "    mask2 = (glsm == 7) \n",
    "    #mask2 = (glsm == 3) \n",
    " \n",
    "if All is True:\n",
    "    mask  = dataset.stype > -1\n",
    "    mask2 = glsm > -1 \n",
    "    #mask2 = (glsm == 3) \n",
    "\n",
    "if snowland is True:\n",
    "    mask  = (dataset.stype == 2) | (dataset.stype == 1) \n",
    "    im     = (dataset.lat > latlims[0]) & (dataset.lat < latlims[1]) &  (dataset.lon > lonlims[0]) & (dataset.lon < lonlims[1]) \n",
    "    #mask2 = (glsm == 8) | (glsm == 9) & (glsm == 10) \n",
    "    mask2 = (glsm == 2) | (glsm == 1)\n",
    "    mask = mask & im\n",
    "    \n",
    "mask3 = (glat > latlims[0]) & (glat < latlims[1]) &  (glon > lonlims[0]) & (glon < lonlims[1]) \n",
    "mask2 = np.logical_and(mask2, mask3)\n",
    "\n",
    "\n",
    "\n",
    "\n",
    "#mask3 = (glsm == 11)  & (np.abs(glat) < 65)"
   ]
  },
  {
   "cell_type": "code",
   "execution_count": null,
   "metadata": {},
   "outputs": [],
   "source": [
    "gmival.lst[mask2]"
   ]
  },
  {
   "cell_type": "code",
   "execution_count": null,
   "metadata": {
    "scrolled": false
   },
   "outputs": [],
   "source": [
    "plt.rcParams.update({'font.size': 16})\n",
    "fig, ax = plt.subplots(2, 2, figsize = [10, 10])\n",
    "ax = ax.ravel()\n",
    "\n",
    "\n",
    "m1 = Basemap(projection= \"cyl\", llcrnrlon = lonlims[0],  llcrnrlat = latlims[0],\n",
    "            urcrnrlon = lonlims[1], urcrnrlat = latlims[1], ax = ax[0], fix_aspect = False)\n",
    "m1.drawcoastlines()  \n",
    "\n",
    "cs1 = m1.scatter(glon[mask2], glat[mask2],\n",
    "              c = gtb[:, :, 0][mask2], s = 5, vmin=150, vmax= 280, cmap = cm.jet)\n",
    "\n",
    "\n",
    "m2 = Basemap(projection= \"cyl\", llcrnrlon = lonlims[0],  llcrnrlat = latlims[0],\n",
    "            urcrnrlon = lonlims[1], urcrnrlat = latlims[1], ax = ax[1], fix_aspect = False)\n",
    "m2.drawcoastlines()  \n",
    "cs2 = m2.scatter(glon[mask2], glat[mask2],\n",
    "              c = pd[mask2] , s = 5, vmin=0, vmax=20, cmap = cm.jet)\n",
    "\n",
    "\n",
    "#m3 = Basemap(projection= \"cyl\", llcrnrlon = lonlims[0],  llcrnrlat = latlims[0],\n",
    "#            urcrnrlon = lonlims[1], urcrnrlat = latlims[1], ax = ax[2], fix_aspect = False)\n",
    "#m3.drawcoastlines()  \n",
    "#cs3 = m3.scatter(lon1, lat1, \n",
    "#              c = rad1, s = 5,\n",
    "#                    vmin=10, vmax= 70  ,cmap = cm.Greys)\n",
    "\n",
    "m3 = Basemap(projection= \"cyl\", llcrnrlon = lonlims[0],  llcrnrlat = latlims[0],\n",
    "            urcrnrlon = lonlims[1], urcrnrlat = latlims[1], ax = ax[2], fix_aspect = False)\n",
    "m3.drawcoastlines()  \n",
    "\n",
    "\n",
    "#cs4 = m4.scatter(dataset.lon.data[mask], dataset.lat.data[mask], \n",
    "#              c = dataset.iwp_mean.data[mask] , s = 5,\n",
    "#                    norm=colors.LogNorm(vmin=1e-2, vmax= 15 ), cmap = cm.jet)\n",
    "\n",
    "cs3 = m3.scatter(dataset.lon.data[mask], dataset.lat.data[mask], \n",
    "              c = dataset.iwp_mean.data[mask], s = 5,\n",
    "                    norm=colors.LogNorm(vmin=.1, vmax= 15),  cmap = cm.jet)\n",
    "\n",
    "\n",
    "m4 = Basemap(projection= \"cyl\", llcrnrlon = lonlims[0],  llcrnrlat = latlims[0],\n",
    "            urcrnrlon = lonlims[1], urcrnrlat = latlims[1], ax = ax[3], fix_aspect = False)\n",
    "m4.drawcoastlines()  \n",
    "\n",
    "\n",
    "#cs4 = m4.scatter(dataset.lon.data[mask], dataset.lat.data[mask], \n",
    "#              c = dataset.iwp_mean.data[mask] , s = 5,\n",
    "#                    norm=colors.LogNorm(vmin=1e-2, vmax= 15 ), cmap = cm.jet)\n",
    "mask3 = dataset.iwp_mean.data[mask] > 0.1\n",
    "cs4 = m4.scatter(dataset.lon.data[mask][mask3], dataset.lat.data[mask][mask3], \n",
    "              c = 100 *(dataset_v.iwp_mean.data[mask][mask3] - dataset.iwp_mean.data[mask][mask3])/dataset.iwp_mean.data[mask][mask3]\n",
    "                 , s = 5,\n",
    "                    vmin=-25, vmax= 25,  cmap = cm.coolwarm)\n",
    "\n",
    "\n",
    "\n",
    "cbar1 = fig.colorbar(cs1, ax = (ax[0]), aspect=40)\n",
    "cbar2 = fig.colorbar(cs2, ax = (ax[1]), aspect=40)\n",
    "cbar3 = fig.colorbar(cs3, ax = (ax[2]), aspect=40)\n",
    "cbar4 = fig.colorbar(cs4, ax = (ax[3]), aspect=40)\n",
    "\n",
    "cbar1.ax.set_title(\"[K]\", fontsize = 14)\n",
    "cbar2.ax.set_title(\"[K]\", fontsize = 14)\n",
    "cbar3.ax.set_title(r\"[kg m$^{-2}$]\", fontsize = 14)\n",
    "cbar4.ax.set_title([\"%\"], fontsize = 14)\n",
    "\n",
    "ax[2].set_title(\"IWP\", fontsize = 14)\n",
    "ax[3].set_title(\"Relative difference\", fontsize = 14)\n",
    "ax[0].set_title(\"TB 166V GHz\",fontsize = 14)\n",
    "ax[1].set_title(\"PD 166 GHz [V - H]\", fontsize = 14)\n",
    "\n",
    "#ax[0].set_ylabel(r\"Latitude [$\\circ$]\")\n",
    "#ax[2].set_ylabel(r\"Latitude [$\\circ$]\")\n",
    "\n",
    "#ax[2].set_xlabel(r\"Longitude [$\\circ$]\")\n",
    "#ax[3].set_xlabel(r\"Longitude [$\\circ$]\")\n",
    "\n",
    "from matplotlib.ticker import MultipleLocator\n",
    "mlx = MultipleLocator(5)\n",
    "mly = MultipleLocator(5)\n",
    "\n",
    "for i in range(4):\n",
    "    ax[i].xaxis.set_minor_locator(mlx)\n",
    "    ax[i].yaxis.set_minor_locator(mly)\n",
    "    ax[i].set_xlim([lonlims[0], lonlims[1]])\n",
    "    ax[i].set_ylim([latlims[0], latlims[1]])\n",
    "    ax[i].grid(\"True\", alpha = 0.3)\n",
    "\n",
    "ax[0].set_xticklabels([])\n",
    "ax[1].set_xticklabels([])\n",
    "ax[1].set_yticklabels([])\n",
    "ax[3].set_yticklabels([])\n",
    "\n",
    "ax[0].text(87.5, -1.7, \"a)\")\n",
    "ax[1].text(87.5, -1.7, \"b)\")\n",
    "ax[2].text(87.5, -1.7, \"c)\")\n",
    "ax[3].text(87.5, -1.7, \"d)\")\n",
    "parallels = np.arange(latlims[0],latlims[1], 2.)\n",
    "meridians = np.arange(lonlims[0], lonlims[1], 5.)\n",
    "# labels = [left,right,top,bottom]\n",
    "\n",
    "\n",
    "m1.drawparallels(parallels,labels=[True,False,True,False])\n",
    "m1.drawmeridians(meridians,labels=[False,False,False,False])\n",
    "m2.drawparallels(parallels,labels=[False,False,False,False])\n",
    "m2.drawmeridians(meridians,labels=[False,False,False,False])\n",
    "m3.drawparallels(parallels,labels=[True,False,True,False])\n",
    "m3.drawmeridians(meridians,labels=[True,False,False,True])\n",
    "m4.drawparallels(parallels,labels=[False,False,False,False])\n",
    "m4.drawmeridians(meridians,labels=[True,False,False,True])\n",
    "\n",
    "\n",
    "    \n",
    "fig.savefig(\"example2_gmi.pdf\", bbox_inches = \"tight\")\n",
    "fig.savefig(\"example2_gmi.png\", bbox_inches = \"tight\")"
   ]
  },
  {
   "cell_type": "code",
   "execution_count": null,
   "metadata": {},
   "outputs": [],
   "source": [
    "import pickle\n",
    "\n",
    "with open(\"../iwc2tb/GMI/GOES-15jan2020.pickle\", \"rb\") as f:\n",
    "    rad = pickle.load(f)\n",
    "    golat = pickle.load(f)\n",
    "    golon = pickle.load(f)"
   ]
  },
  {
   "cell_type": "code",
   "execution_count": null,
   "metadata": {},
   "outputs": [],
   "source": [
    "rad.shape"
   ]
  },
  {
   "cell_type": "code",
   "execution_count": null,
   "metadata": {},
   "outputs": [],
   "source": [
    "# find collocations\n",
    "rad1 = np.zeros(glon[mask2].shape)\n",
    "lat1 = np.zeros(glon[mask2].shape)\n",
    "lon1 = np.zeros(glon[mask2].shape)\n",
    "\n",
    "for i in range(0, glon[mask2].shape[0]):\n",
    "    lo = glon[mask2][i]\n",
    "    la = glat[mask2][i]\n",
    "    \n",
    "    dist = np.sqrt((golon - lo)**2 + (golat - la)**2)\n",
    "    \n",
    "    im = np.argmin(dist)\n",
    "    #print (golat[im], golon[im], la, lo)\n",
    "    \n",
    "    rad1[i] = rad[im]\n",
    "    lat1[i] = golat[im]\n",
    "    lon1[i] = golon[im]\n",
    "    \n",
    "    "
   ]
  },
  {
   "cell_type": "code",
   "execution_count": null,
   "metadata": {},
   "outputs": [],
   "source": [
    "fig, ax = plt.subplots(1, 1, figsize = [6, 6])\n",
    "\n",
    "\n",
    "\n",
    "m1 = Basemap(projection= \"cyl\", llcrnrlon = lonlims[0],  llcrnrlat = latlims[0],\n",
    "            urcrnrlon = lonlims[1], urcrnrlat = latlims[1], ax = ax, fix_aspect = False)\n",
    "m1.drawcoastlines()  \n",
    "cs = m1.scatter(lon1, lat1, c = rad1, cmap = cm.Greys, s = 2, vmin = 20, vmax = 70)\n",
    "plt.colorbar(cs)"
   ]
  },
  {
   "cell_type": "code",
   "execution_count": null,
   "metadata": {},
   "outputs": [],
   "source": [
    "rad1.max()"
   ]
  },
  {
   "cell_type": "code",
   "execution_count": null,
   "metadata": {},
   "outputs": [],
   "source": [
    "glsm[mask2].max()"
   ]
  },
  {
   "cell_type": "code",
   "execution_count": null,
   "metadata": {},
   "outputs": [],
   "source": [
    "plt.scatter(dataset.lon.data[mask], dataset.lat.data[mask])"
   ]
  },
  {
   "cell_type": "code",
   "execution_count": null,
   "metadata": {},
   "outputs": [],
   "source": [
    "np.sum(mask2)"
   ]
  },
  {
   "cell_type": "code",
   "execution_count": null,
   "metadata": {},
   "outputs": [],
   "source": [
    "fig, ax = plt.subplots(1, 3, figsize = [18, 6])\n",
    "ax = ax.ravel()\n",
    "\n",
    "cs = ax[0].scatter(gtb[:, :, 0][mask2], pd[mask2] ,\n",
    "                c =  dataset.iwp_mean.data[mask], \n",
    "                s = 1, norm=colors.LogNorm(vmin=0.01, vmax= 10), \n",
    "                cmap = cm.rainbow)\n",
    "cs = ax[1].scatter( gtb[:, :, 0][mask2], pd[mask2],\n",
    "                c =  dataset_v.iwp_mean.data[mask], \n",
    "                s = 1, norm=colors.LogNorm(vmin=0.01, vmax= 10), \n",
    "                cmap = cm.rainbow)\n",
    "cs = ax[2].scatter( gtb[:, :, 0][mask2], pd[mask2],\n",
    "                c =  dataset_v.iwp_mean.data[mask] - dataset.iwp_mean.data[mask], \n",
    "                s = 1, vmin=-1, vmax= 1, \n",
    "                cmap = cm.coolwarm)\n",
    "\n",
    "#cs = ax[2].scatter(gmi.tb[:, :, 0][mask3], pd[mask3],\n",
    "#                c =  glsm[mask3], vmin=1, vmax= 13, \n",
    "#                cmap = cm.tab10, s = 1)\n",
    "\n",
    "fig.colorbar(cs, ax = ax)\n",
    "ax[0].set_xlabel(r\"183$\\pm$7 GHz\")\n",
    "ax[0].set_ylabel(\"PD 166 GHz\")\n",
    "ax[1].set_xlabel(r\"183$\\pm$7 GHz\")\n",
    "ax[2].set_xlabel(r\"183$\\pm$7 GHz\")\n",
    "\n",
    "ax[0].grid(\"on\")\n",
    "ax[1].grid(\"on\")\n",
    "ax[2].grid(\"on\")\n",
    "ax[0].set_title(\"IWP (VH)\")\n",
    "ax[1].set_title(\"IWP (V)\")\n",
    "ax[2].set_title(\"IWP (VH/2)\")\n",
    "\n",
    "for i in range(3):\n",
    "    ax[i].set_xlim([150, 290])\n",
    "    ax[i].set_ylim([-5, 50])\n",
    "    ax[i].grid('on')"
   ]
  },
  {
   "cell_type": "code",
   "execution_count": null,
   "metadata": {},
   "outputs": [],
   "source": [
    "im = mask2 & (dataset_v.iwp_mean > 0.1)"
   ]
  },
  {
   "cell_type": "code",
   "execution_count": null,
   "metadata": {},
   "outputs": [],
   "source": [
    "import xarray\n",
    "import os\n",
    "\n",
    "#infile = os.path.expanduser(\"~/Dendrite/Projects/IWP/GMI/training_data/TB_GMI_train_jul_2010.nc\")\n",
    "infile = os.path.expanduser(\"~/Dendrite/Projects/IWP/GMI/training_data/TB_GMI_train_jan_lpa.nc\")"
   ]
  },
  {
   "cell_type": "code",
   "execution_count": null,
   "metadata": {},
   "outputs": [],
   "source": [
    "gdataset = xarray.open_dataset(infile)\n",
    "ttb = gdataset.ta.data\n",
    "tlsm = gdataset.ta.stype\n",
    "tiwp = gdataset.ta.iwp\n",
    "\n",
    "from iwc2tb.common.add_gaussian_noise import add_gaussian_noise\n",
    "nedt = np.array([0.70, 0.65, 0.47, 0.56 ])\n",
    "ttb = add_gaussian_noise(ttb, nedt)\n",
    "\n",
    "im = (tlsm == 2) & (gdataset.ta.lat > 0) & (tiwp > 0.01)\n",
    "im1 = (tlsm == 1)& (gdataset.ta.lat > 45) & (tiwp > 0.1)"
   ]
  },
  {
   "cell_type": "code",
   "execution_count": null,
   "metadata": {
    "scrolled": true
   },
   "outputs": [],
   "source": [
    "fig, ax = plt.subplots(1, 4, figsize = [20, 5])\n",
    "ax = ax.ravel()\n",
    "\n",
    "\n",
    "ax[0].scatter(t2m[mask2],   pd[mask2],\n",
    "              c =  dataset.iwp_mean.data[mask],  norm=colors.LogNorm(vmin=0.01, vmax= 10), s = 2, \n",
    "                cmap = cm.rainbow)\n",
    "#ax[0].set_xscale(\"log\")\n",
    "\n",
    "ax[1].scatter(t2m[mask2],   pd[mask2],\n",
    "              c =  dataset_v.iwp_mean.data[mask],  norm=colors.LogNorm(vmin=0.01, vmax= 10), s = 2, \n",
    "                cmap = cm.rainbow)\n",
    "\n",
    "\n",
    "ax[2].scatter(t2m[mask2],   pd[mask2],\n",
    "              c =  dataset_vh.iwp_mean.data[mask], norm=colors.LogNorm(vmin=0.01, vmax= 10), s = 2, \n",
    "                cmap = cm.rainbow)\n",
    "\n",
    "\n",
    "cs = ax[3].scatter(gdataset.ta.t2m[im], (ttb[:, 0] - ttb[:, 1])[im], \n",
    "              c = tiwp[im], norm=colors.LogNorm(vmin=0.01, vmax= 10), s = 2, \n",
    "                cmap = cm.rainbow)\n",
    "\n",
    "#for i in range(2):\n",
    "#    ax[i].set_xlim([220, 280])\n",
    "#    ax[i].set_ylim([160, 280])\n",
    "#ax[1].set_xscale(\"log\")\n",
    "for i in range(4):\n",
    "    ax[i].set_xlim([240, 300])\n",
    "    ax[i].set_ylim([-5, 35])\n",
    "    ax[i].grid()\n",
    "    \n",
    "fig.colorbar(cs, ax= ax)    \n",
    "#ax[1].set_xscale(\"log\")"
   ]
  },
  {
   "cell_type": "code",
   "execution_count": null,
   "metadata": {},
   "outputs": [],
   "source": []
  },
  {
   "cell_type": "code",
   "execution_count": null,
   "metadata": {},
   "outputs": [],
   "source": []
  },
  {
   "cell_type": "code",
   "execution_count": null,
   "metadata": {},
   "outputs": [],
   "source": [
    "\n",
    "fig, ax = plt.subplots(1, 1, figsize = [6, 6])\n",
    "tbbins = np.arange(200, 300, 1)\n",
    "\n",
    "ax.hist(gmi.tb[:, :, 0][mask2], tbbins, density = True, histtype = \"step\", label = \"GMI Snow\")\n",
    "\n",
    "ax.hist(tb[:, 0][im], tbbins, density = True, histtype = \"step\", label = \"Database Snow\")\n",
    "ax.hist(tb[:, 0][im1], tbbins, density = True, histtype = \"step\", label = \"Database Land\")\n",
    "ax.legend()"
   ]
  },
  {
   "cell_type": "code",
   "execution_count": null,
   "metadata": {},
   "outputs": [],
   "source": [
    "pd.shape"
   ]
  },
  {
   "cell_type": "code",
   "execution_count": null,
   "metadata": {},
   "outputs": [],
   "source": [
    "plt.scatter(dataset.iwp_mean.data[mask], dataset_v.iwp_mean.data[mask])\n",
    "x = np.arange(0, 2,1)\n",
    "plt.plot(x, x)"
   ]
  },
  {
   "cell_type": "code",
   "execution_count": null,
   "metadata": {},
   "outputs": [],
   "source": [
    "latlims = [80, 90]\n",
    "lonlims = [35, 45]\n",
    "\n",
    "gmimask = (gmi.lat > latlims[0]) & (gmi.lat < latlims[1]) & (gmi.lon > lonlims[0]) & (gmi.lon < lonlims[1])\n",
    "\n",
    "imask  = (dataset.lat > latlims[0]) & (dataset.lat < latlims[1]) & (dataset.lon > lonlims[0]) & (dataset.lon < lonlims[1]) \n"
   ]
  },
  {
   "cell_type": "code",
   "execution_count": null,
   "metadata": {},
   "outputs": [],
   "source": [
    "\n",
    "#inpath    =  os.path.expanduser('~/Dendrite/Projects/IWP/GMI/GMI_m65_p65/')  \n",
    "inpath1   =  os.path.expanduser('~/Dendrite/Projects/IWP/GMI/GMI_m65_p65_v1.1/lpa_pr_1') \n",
    "matfiles1 = glob.glob(os.path.join(inpath1, \"2009_*.mat\"))\n",
    "\n",
    "#matfiles += matfiles1\n",
    "\n",
    "lpa_pr1       = GMI(matfiles1[:])\n",
    "arofiles = []\n",
    "basenames = []\n",
    "aropath = os.path.expanduser('~/Dendrite/Projects/IWP/GMI/GMI_m65_p65_v1.1/') \n",
    "for file in matfiles1:\n",
    "        \n",
    "    basename = os.path.basename(file)\n",
    "    file = os.path.join(aropath, basename)\n",
    "\n",
    "    arofiles.append(file)\n",
    "    basenames.append(basename)\n",
    "    \n",
    "lpa = GMI(arofiles[:])  "
   ]
  },
  {
   "cell_type": "code",
   "execution_count": null,
   "metadata": {},
   "outputs": [],
   "source": [
    "ta = lpa.ta_noise\n",
    "stype = lpa.stype\n"
   ]
  },
  {
   "cell_type": "code",
   "execution_count": null,
   "metadata": {},
   "outputs": [],
   "source": [
    "lpamask = stype == 1"
   ]
  },
  {
   "cell_type": "code",
   "execution_count": null,
   "metadata": {},
   "outputs": [],
   "source": [
    "fig, ax = plt.subplots(1, 1, figsize = [6, 6])\n",
    "ax.scatter(ta[:, 0][lpamask], ta[:, 1][lpamask])\n",
    "ax.scatter(gmi.tb[:, :, 0][mask2],gmi.tb[:, :, 1][mask2] ,\n",
    "               s = 3,)\n",
    "cs = ax.scatter(gmi.tb[:, :, 0][gmimask],gmi.tb[:, :, 1][gmimask] , c = dataset_v.iwp_mean.data[imask],\n",
    "                s = 3,  norm=colors.LogNorm(vmin=0.01, vmax= 5),  cmap = cm.rainbow)\n",
    "\n",
    "fig.colorbar(cs, ax = ax)\n",
    "ax.set_xlabel(\"166 V\")\n",
    "ax.set_ylabel(\"166 H\")\n",
    "ax.grid(\"on\")\n",
    "x = np.arange(150, 280)\n",
    "ax.plot(x, x, 'k')\n",
    "#plt.scatter(gmi.tb[:, :, 0][mask3],gmi.tb[:, :, 1][mask3] )\n"
   ]
  },
  {
   "cell_type": "code",
   "execution_count": null,
   "metadata": {},
   "outputs": [],
   "source": [
    "dataset.iwp_mean.data"
   ]
  },
  {
   "cell_type": "code",
   "execution_count": null,
   "metadata": {},
   "outputs": [],
   "source": [
    "plt.scatter(gmi.lon[gmimask], gmi.lat[gmimask], c = gmi.tb[:, :, 0][gmimask], s = 3, vmin=210, vmax= 260, cmap = cm.tab20c)"
   ]
  },
  {
   "cell_type": "code",
   "execution_count": null,
   "metadata": {},
   "outputs": [],
   "source": [
    "fp = gmi.get_gprofdata(\"frozenPrecipitation\")\n",
    "sp = gmi.get_gprofdata(\"surfacePrecipitation\")"
   ]
  },
  {
   "cell_type": "code",
   "execution_count": null,
   "metadata": {},
   "outputs": [],
   "source": [
    "gmi.get_gprofdata(\"x\")"
   ]
  },
  {
   "cell_type": "code",
   "execution_count": null,
   "metadata": {},
   "outputs": [],
   "source": [
    "mask2 = dataset.stype.data == 0\n",
    "fig, ax = plt.subplots(1, 1, figsize =[6, 6])\n",
    "ax.scatter(dataset_v.iwp_mean.data[mask2], dataset.iwp_mean.data[mask2])\n",
    "x = np.arange(0, 5,1)\n",
    "ax.plot(x, x, 'k')\n",
    "ax.set_xlabel(\"ARO V\")\n",
    "ax.set_ylabel(\"ARO VH\")"
   ]
  },
  {
   "cell_type": "code",
   "execution_count": null,
   "metadata": {},
   "outputs": [],
   "source": [
    "t"
   ]
  },
  {
   "cell_type": "code",
   "execution_count": null,
   "metadata": {},
   "outputs": [],
   "source": []
  },
  {
   "cell_type": "code",
   "execution_count": null,
   "metadata": {},
   "outputs": [],
   "source": []
  },
  {
   "cell_type": "code",
   "execution_count": null,
   "metadata": {},
   "outputs": [],
   "source": []
  },
  {
   "cell_type": "code",
   "execution_count": null,
   "metadata": {},
   "outputs": [],
   "source": []
  },
  {
   "cell_type": "code",
   "execution_count": null,
   "metadata": {},
   "outputs": [],
   "source": []
  },
  {
   "cell_type": "code",
   "execution_count": null,
   "metadata": {},
   "outputs": [],
   "source": []
  }
 ],
 "metadata": {
  "kernelspec": {
   "display_name": "Python 3 (ipykernel)",
   "language": "python",
   "name": "python3"
  },
  "language_info": {
   "codemirror_mode": {
    "name": "ipython",
    "version": 3
   },
   "file_extension": ".py",
   "mimetype": "text/x-python",
   "name": "python",
   "nbconvert_exporter": "python",
   "pygments_lexer": "ipython3",
   "version": "3.9.7"
  }
 },
 "nbformat": 4,
 "nbformat_minor": 4
}
